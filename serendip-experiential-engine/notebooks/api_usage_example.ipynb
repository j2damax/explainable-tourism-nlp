{
 "cells": [
  {
   "cell_type": "markdown",
   "id": "410c4379",
   "metadata": {},
   "source": [
    "# Using the Serendip Experiential Engine API\n",
    "\n",
    "This notebook demonstrates how to programmatically interact with the Serendip Experiential Engine API for tourism review analysis. The API provides two main endpoints:\n",
    "\n",
    "1. `/predict` - For multi-label classification of tourism reviews\n",
    "2. `/explain` - For generating explainable AI visualizations using SHAP\n",
    "\n",
    "## Setup\n",
    "\n",
    "First, let's import the necessary libraries:"
   ]
  },
  {
   "cell_type": "code",
   "execution_count": 17,
   "id": "147f90d4",
   "metadata": {},
   "outputs": [],
   "source": [
    "import requests\n",
    "import pandas as pd\n",
    "import matplotlib.pyplot as plt\n",
    "import seaborn as sns\n",
    "import json\n",
    "import time\n",
    "from IPython.display import HTML, display\n",
    "import plotly.express as px\n",
    "import plotly.graph_objects as go\n",
    "\n",
    "# Define the API base URL - change this to your deployment URL\n",
    "API_BASE_URL = \"http://localhost:8000\"  # When running locally with Docker"
   ]
  },
  {
   "cell_type": "markdown",
   "id": "87b59c8f",
   "metadata": {},
   "source": [
    "## Sample Tourism Reviews\n",
    "\n",
    "Let's define a few example tourism reviews from Sri Lanka to test our API:"
   ]
  },
  {
   "cell_type": "code",
   "execution_count": 18,
   "id": "22563af2",
   "metadata": {},
   "outputs": [],
   "source": [
    "sample_reviews = [\n",
    "    \"\"\"Our stay at the eco-lodge in Sinharaja Rainforest was transformative. The resort used solar power, \n",
    "    rainwater harvesting, and served locally-grown organic food. We participated in a community \n",
    "    reforestation project and learned about sustainable tourism practices from local guides.\"\"\",\n",
    "    \n",
    "    \"\"\"I spent a week at a wellness retreat in the hills of Kandy combining yoga, meditation, and \n",
    "    traditional Ayurvedic treatments. The early morning meditation sessions overlooking the misty \n",
    "    mountains were incredibly peaceful, and the personalized Ayurvedic consultations helped me \n",
    "    create a balanced health routine I've maintained since returning home.\"\"\",\n",
    "    \n",
    "    \"\"\"The cooking class in Galle was the highlight of our trip! We visited the local market with the \n",
    "    chef to select fresh spices and ingredients before learning to prepare traditional Sri Lankan \n",
    "    curry, hoppers, and sambols. Understanding the cultural significance of each dish and tasting \n",
    "    the complex flavors we created ourselves was an unforgettable experience.\"\"\",\n",
    "    \n",
    "    \"\"\"We hired a local guide who took us hiking through remote villages in the Knuckles Mountain Range \n",
    "    where we stayed with families in homestays. No tourists, no beaten paths - just authentic \n",
    "    connections with locals who showed us hidden waterfalls and taught us traditional farming methods. \n",
    "    This off-grid adventure was physically challenging but incredibly rewarding.\"\"\"\n",
    "]\n",
    "\n",
    "# For display purposes, let's create shortened versions\n",
    "sample_reviews_short = [\n",
    "    \"Eco-lodge in Sinharaja Rainforest with sustainable practices and community projects\",\n",
    "    \"Wellness retreat in Kandy with yoga, meditation and Ayurvedic treatments\",\n",
    "    \"Cooking class in Galle with market visit and traditional Sri Lankan cuisine\",\n",
    "    \"Off-grid hiking in Knuckles Mountain Range with homestays and hidden waterfalls\"\n",
    "]"
   ]
  },
  {
   "cell_type": "markdown",
   "id": "a09be325",
   "metadata": {},
   "source": [
    "## API Health Check\n",
    "\n",
    "First, let's verify the API is running by checking the root endpoint:"
   ]
  },
  {
   "cell_type": "code",
   "execution_count": 19,
   "id": "7a3f52e2",
   "metadata": {},
   "outputs": [
    {
     "name": "stdout",
     "output_type": "stream",
     "text": [
      "✅ API is running: {'status': 'active', 'model': 'j2damax/serendip-travel-classifier'}\n"
     ]
    }
   ],
   "source": [
    "try:\n",
    "    response = requests.get(f\"{API_BASE_URL}/\")\n",
    "    if response.status_code == 200:\n",
    "        print(f\"✅ API is running: {response.json()}\")\n",
    "    else:\n",
    "        print(f\"❌ API returned status code {response.status_code}\")\n",
    "except Exception as e:\n",
    "    print(f\"❌ Error connecting to API: {e}\")\n",
    "    print(\"\\nMake sure the Docker containers are running with `docker compose up` or check your API_BASE_URL.\")\n",
    "    print(\"If running the notebook outside the Docker network, you might need to use http://localhost:8000 instead.\")"
   ]
  },
  {
   "cell_type": "markdown",
   "id": "788b7210",
   "metadata": {},
   "source": [
    "## Using the Predict Endpoint\n",
    "\n",
    "Let's create a function to call the `/predict` endpoint and classify our sample reviews:"
   ]
  },
  {
   "cell_type": "code",
   "execution_count": 20,
   "id": "6cdced89",
   "metadata": {},
   "outputs": [],
   "source": [
    "def get_predictions(review_text):\n",
    "    \"\"\"\n",
    "    Call the /predict endpoint to classify a review text\n",
    "    \n",
    "    Parameters:\n",
    "        review_text (str): The tourism review text to analyze\n",
    "        \n",
    "    Returns:\n",
    "        list: List of dictionaries with label and score values\n",
    "    \"\"\"\n",
    "    url = f\"{API_BASE_URL}/predict\"\n",
    "    payload = {\"review_text\": review_text}\n",
    "    \n",
    "    try:\n",
    "        response = requests.post(url, json=payload)\n",
    "        response.raise_for_status()  # Raise exception for 4XX/5XX responses\n",
    "        return response.json()\n",
    "    except requests.exceptions.RequestException as e:\n",
    "        print(f\"Error calling predict endpoint: {e}\")\n",
    "        return []"
   ]
  },
  {
   "cell_type": "code",
   "execution_count": 21,
   "id": "9fd8ea45",
   "metadata": {},
   "outputs": [
    {
     "name": "stdout",
     "output_type": "stream",
     "text": [
      "Predictions for Review 1 (Eco-Lodge):\n",
      "Regenerative & Eco-Tourism: 0.0000\n",
      "Integrated Wellness: 0.0000\n",
      "Immersive Culinary: 0.0000\n",
      "Off-the-Beaten-Path Adventure: 0.0000\n"
     ]
    }
   ],
   "source": [
    "# Let's test our function on the first review\n",
    "predictions = get_predictions(sample_reviews[0])\n",
    "print(f\"Predictions for Review 1 (Eco-Lodge):\")\n",
    "for p in predictions:\n",
    "    print(f\"{p['label']}: {p['score']:.4f}\")"
   ]
  },
  {
   "cell_type": "markdown",
   "id": "7671f284",
   "metadata": {},
   "source": [
    "## Processing Multiple Reviews\n",
    "\n",
    "Now let's process all of our sample reviews and visualize the results:"
   ]
  },
  {
   "cell_type": "code",
   "execution_count": 22,
   "id": "69330150",
   "metadata": {},
   "outputs": [
    {
     "name": "stdout",
     "output_type": "stream",
     "text": [
      "Processing review 1...\n",
      "Processing review 2...\n",
      "Processing review 2...\n",
      "Processing review 3...\n",
      "Processing review 3...\n",
      "Processing review 4...\n",
      "Processing review 4...\n",
      "Done processing all reviews!\n",
      "Done processing all reviews!\n"
     ]
    }
   ],
   "source": [
    "# Process all reviews\n",
    "all_predictions = []\n",
    "for i, review in enumerate(sample_reviews):\n",
    "    print(f\"Processing review {i+1}...\")\n",
    "    pred = get_predictions(review)\n",
    "    all_predictions.append(pred)\n",
    "    # Small delay to avoid overwhelming the API\n",
    "    time.sleep(0.5)\n",
    "    \n",
    "print(\"Done processing all reviews!\")"
   ]
  },
  {
   "cell_type": "code",
   "execution_count": 23,
   "id": "91571c98",
   "metadata": {},
   "outputs": [
    {
     "data": {
      "text/html": [
       "<div>\n",
       "<style scoped>\n",
       "    .dataframe tbody tr th:only-of-type {\n",
       "        vertical-align: middle;\n",
       "    }\n",
       "\n",
       "    .dataframe tbody tr th {\n",
       "        vertical-align: top;\n",
       "    }\n",
       "\n",
       "    .dataframe thead th {\n",
       "        text-align: right;\n",
       "    }\n",
       "</style>\n",
       "<table border=\"1\" class=\"dataframe\">\n",
       "  <thead>\n",
       "    <tr style=\"text-align: right;\">\n",
       "      <th></th>\n",
       "      <th>Review</th>\n",
       "      <th>Dimension</th>\n",
       "      <th>Score</th>\n",
       "    </tr>\n",
       "  </thead>\n",
       "  <tbody>\n",
       "    <tr>\n",
       "      <th>0</th>\n",
       "      <td>Eco-lodge in Sinharaja Rainforest with sustain...</td>\n",
       "      <td>Regenerative &amp; Eco-Tourism</td>\n",
       "      <td>0.0</td>\n",
       "    </tr>\n",
       "    <tr>\n",
       "      <th>1</th>\n",
       "      <td>Eco-lodge in Sinharaja Rainforest with sustain...</td>\n",
       "      <td>Integrated Wellness</td>\n",
       "      <td>0.0</td>\n",
       "    </tr>\n",
       "    <tr>\n",
       "      <th>2</th>\n",
       "      <td>Eco-lodge in Sinharaja Rainforest with sustain...</td>\n",
       "      <td>Immersive Culinary</td>\n",
       "      <td>0.0</td>\n",
       "    </tr>\n",
       "    <tr>\n",
       "      <th>3</th>\n",
       "      <td>Eco-lodge in Sinharaja Rainforest with sustain...</td>\n",
       "      <td>Off-the-Beaten-Path Adventure</td>\n",
       "      <td>0.0</td>\n",
       "    </tr>\n",
       "    <tr>\n",
       "      <th>4</th>\n",
       "      <td>Wellness retreat in Kandy with yoga, meditatio...</td>\n",
       "      <td>Regenerative &amp; Eco-Tourism</td>\n",
       "      <td>0.0</td>\n",
       "    </tr>\n",
       "    <tr>\n",
       "      <th>5</th>\n",
       "      <td>Wellness retreat in Kandy with yoga, meditatio...</td>\n",
       "      <td>Integrated Wellness</td>\n",
       "      <td>0.0</td>\n",
       "    </tr>\n",
       "    <tr>\n",
       "      <th>6</th>\n",
       "      <td>Wellness retreat in Kandy with yoga, meditatio...</td>\n",
       "      <td>Immersive Culinary</td>\n",
       "      <td>0.0</td>\n",
       "    </tr>\n",
       "    <tr>\n",
       "      <th>7</th>\n",
       "      <td>Wellness retreat in Kandy with yoga, meditatio...</td>\n",
       "      <td>Off-the-Beaten-Path Adventure</td>\n",
       "      <td>0.0</td>\n",
       "    </tr>\n",
       "    <tr>\n",
       "      <th>8</th>\n",
       "      <td>Cooking class in Galle with market visit and t...</td>\n",
       "      <td>Regenerative &amp; Eco-Tourism</td>\n",
       "      <td>0.0</td>\n",
       "    </tr>\n",
       "    <tr>\n",
       "      <th>9</th>\n",
       "      <td>Cooking class in Galle with market visit and t...</td>\n",
       "      <td>Integrated Wellness</td>\n",
       "      <td>0.0</td>\n",
       "    </tr>\n",
       "  </tbody>\n",
       "</table>\n",
       "</div>"
      ],
      "text/plain": [
       "                                              Review  \\\n",
       "0  Eco-lodge in Sinharaja Rainforest with sustain...   \n",
       "1  Eco-lodge in Sinharaja Rainforest with sustain...   \n",
       "2  Eco-lodge in Sinharaja Rainforest with sustain...   \n",
       "3  Eco-lodge in Sinharaja Rainforest with sustain...   \n",
       "4  Wellness retreat in Kandy with yoga, meditatio...   \n",
       "5  Wellness retreat in Kandy with yoga, meditatio...   \n",
       "6  Wellness retreat in Kandy with yoga, meditatio...   \n",
       "7  Wellness retreat in Kandy with yoga, meditatio...   \n",
       "8  Cooking class in Galle with market visit and t...   \n",
       "9  Cooking class in Galle with market visit and t...   \n",
       "\n",
       "                       Dimension  Score  \n",
       "0     Regenerative & Eco-Tourism    0.0  \n",
       "1            Integrated Wellness    0.0  \n",
       "2             Immersive Culinary    0.0  \n",
       "3  Off-the-Beaten-Path Adventure    0.0  \n",
       "4     Regenerative & Eco-Tourism    0.0  \n",
       "5            Integrated Wellness    0.0  \n",
       "6             Immersive Culinary    0.0  \n",
       "7  Off-the-Beaten-Path Adventure    0.0  \n",
       "8     Regenerative & Eco-Tourism    0.0  \n",
       "9            Integrated Wellness    0.0  "
      ]
     },
     "execution_count": 23,
     "metadata": {},
     "output_type": "execute_result"
    }
   ],
   "source": [
    "# Convert predictions to a DataFrame for easier visualization\n",
    "def create_predictions_df(predictions_list, review_labels):\n",
    "    \"\"\"Convert the list of predictions to a DataFrame\"\"\"\n",
    "    data = []\n",
    "    for i, predictions in enumerate(predictions_list):\n",
    "        for pred in predictions:\n",
    "            data.append({\n",
    "                \"Review\": review_labels[i],\n",
    "                \"Dimension\": pred[\"label\"],\n",
    "                \"Score\": pred[\"score\"]\n",
    "            })\n",
    "    return pd.DataFrame(data)\n",
    "\n",
    "# Create DataFrame\n",
    "pred_df = create_predictions_df(all_predictions, sample_reviews_short)\n",
    "pred_df.head(10)"
   ]
  },
  {
   "cell_type": "markdown",
   "id": "5893e58f",
   "metadata": {},
   "source": [
    "### Visualizing the Predictions\n",
    "\n",
    "Let's create some visualizations to better understand the predictions:"
   ]
  },
  {
   "cell_type": "code",
   "execution_count": 9,
   "id": "67367017",
   "metadata": {},
   "outputs": [
    {
     "data": {
      "application/vnd.plotly.v1+json": {
       "config": {
        "plotlyServerURL": "https://plot.ly"
       },
       "data": [
        {
         "alignmentgroup": "True",
         "hovertemplate": "Review=Eco-lodge in Sinharaja Rainforest with sustainable practices and community projects<br>Experiential Dimension=%{x}<br>Confidence Score=%{y}<extra></extra>",
         "legendgroup": "Eco-lodge in Sinharaja Rainforest with sustainable practices and community projects",
         "marker": {
          "color": "#636efa",
          "pattern": {
           "shape": ""
          }
         },
         "name": "Eco-lodge in Sinharaja Rainforest with sustainable practices and community projects",
         "offsetgroup": "Eco-lodge in Sinharaja Rainforest with sustainable practices and community projects",
         "orientation": "v",
         "showlegend": true,
         "textposition": "auto",
         "type": "bar",
         "x": [
          "Regenerative & Eco-Tourism",
          "Integrated Wellness",
          "Immersive Culinary",
          "Off-the-Beaten-Path Adventure"
         ],
         "xaxis": "x",
         "y": {
          "bdata": "AAAAAAAAAAAAAAAAAAAAAAAAAAAAAAAAAAAAAAAAAAA=",
          "dtype": "f8"
         },
         "yaxis": "y"
        },
        {
         "alignmentgroup": "True",
         "hovertemplate": "Review=Wellness retreat in Kandy with yoga, meditation and Ayurvedic treatments<br>Experiential Dimension=%{x}<br>Confidence Score=%{y}<extra></extra>",
         "legendgroup": "Wellness retreat in Kandy with yoga, meditation and Ayurvedic treatments",
         "marker": {
          "color": "#EF553B",
          "pattern": {
           "shape": ""
          }
         },
         "name": "Wellness retreat in Kandy with yoga, meditation and Ayurvedic treatments",
         "offsetgroup": "Wellness retreat in Kandy with yoga, meditation and Ayurvedic treatments",
         "orientation": "v",
         "showlegend": true,
         "textposition": "auto",
         "type": "bar",
         "x": [
          "Regenerative & Eco-Tourism",
          "Integrated Wellness",
          "Immersive Culinary",
          "Off-the-Beaten-Path Adventure"
         ],
         "xaxis": "x",
         "y": {
          "bdata": "AAAAAAAAAAAAAAAAAAAAAAAAAAAAAAAAAAAAAAAAAAA=",
          "dtype": "f8"
         },
         "yaxis": "y"
        },
        {
         "alignmentgroup": "True",
         "hovertemplate": "Review=Cooking class in Galle with market visit and traditional Sri Lankan cuisine<br>Experiential Dimension=%{x}<br>Confidence Score=%{y}<extra></extra>",
         "legendgroup": "Cooking class in Galle with market visit and traditional Sri Lankan cuisine",
         "marker": {
          "color": "#00cc96",
          "pattern": {
           "shape": ""
          }
         },
         "name": "Cooking class in Galle with market visit and traditional Sri Lankan cuisine",
         "offsetgroup": "Cooking class in Galle with market visit and traditional Sri Lankan cuisine",
         "orientation": "v",
         "showlegend": true,
         "textposition": "auto",
         "type": "bar",
         "x": [
          "Regenerative & Eco-Tourism",
          "Integrated Wellness",
          "Immersive Culinary",
          "Off-the-Beaten-Path Adventure"
         ],
         "xaxis": "x",
         "y": {
          "bdata": "AAAAAAAAAAAAAAAAAAAAAAAAAAAAAAAAAAAAAAAAAAA=",
          "dtype": "f8"
         },
         "yaxis": "y"
        },
        {
         "alignmentgroup": "True",
         "hovertemplate": "Review=Off-grid hiking in Knuckles Mountain Range with homestays and hidden waterfalls<br>Experiential Dimension=%{x}<br>Confidence Score=%{y}<extra></extra>",
         "legendgroup": "Off-grid hiking in Knuckles Mountain Range with homestays and hidden waterfalls",
         "marker": {
          "color": "#ab63fa",
          "pattern": {
           "shape": ""
          }
         },
         "name": "Off-grid hiking in Knuckles Mountain Range with homestays and hidden waterfalls",
         "offsetgroup": "Off-grid hiking in Knuckles Mountain Range with homestays and hidden waterfalls",
         "orientation": "v",
         "showlegend": true,
         "textposition": "auto",
         "type": "bar",
         "x": [
          "Regenerative & Eco-Tourism",
          "Integrated Wellness",
          "Immersive Culinary",
          "Off-the-Beaten-Path Adventure"
         ],
         "xaxis": "x",
         "y": {
          "bdata": "AAAAAAAAAAAAAAAAAAAAAAAAAAAAAAAAAAAAAAAAAAA=",
          "dtype": "f8"
         },
         "yaxis": "y"
        }
       ],
       "layout": {
        "barmode": "group",
        "font": {
         "size": 12
        },
        "height": 500,
        "legend": {
         "title": {
          "text": "Review"
         },
         "tracegroupgap": 0
        },
        "template": {
         "data": {
          "bar": [
           {
            "error_x": {
             "color": "#2a3f5f"
            },
            "error_y": {
             "color": "#2a3f5f"
            },
            "marker": {
             "line": {
              "color": "#E5ECF6",
              "width": 0.5
             },
             "pattern": {
              "fillmode": "overlay",
              "size": 10,
              "solidity": 0.2
             }
            },
            "type": "bar"
           }
          ],
          "barpolar": [
           {
            "marker": {
             "line": {
              "color": "#E5ECF6",
              "width": 0.5
             },
             "pattern": {
              "fillmode": "overlay",
              "size": 10,
              "solidity": 0.2
             }
            },
            "type": "barpolar"
           }
          ],
          "carpet": [
           {
            "aaxis": {
             "endlinecolor": "#2a3f5f",
             "gridcolor": "white",
             "linecolor": "white",
             "minorgridcolor": "white",
             "startlinecolor": "#2a3f5f"
            },
            "baxis": {
             "endlinecolor": "#2a3f5f",
             "gridcolor": "white",
             "linecolor": "white",
             "minorgridcolor": "white",
             "startlinecolor": "#2a3f5f"
            },
            "type": "carpet"
           }
          ],
          "choropleth": [
           {
            "colorbar": {
             "outlinewidth": 0,
             "ticks": ""
            },
            "type": "choropleth"
           }
          ],
          "contour": [
           {
            "colorbar": {
             "outlinewidth": 0,
             "ticks": ""
            },
            "colorscale": [
             [
              0,
              "#0d0887"
             ],
             [
              0.1111111111111111,
              "#46039f"
             ],
             [
              0.2222222222222222,
              "#7201a8"
             ],
             [
              0.3333333333333333,
              "#9c179e"
             ],
             [
              0.4444444444444444,
              "#bd3786"
             ],
             [
              0.5555555555555556,
              "#d8576b"
             ],
             [
              0.6666666666666666,
              "#ed7953"
             ],
             [
              0.7777777777777778,
              "#fb9f3a"
             ],
             [
              0.8888888888888888,
              "#fdca26"
             ],
             [
              1,
              "#f0f921"
             ]
            ],
            "type": "contour"
           }
          ],
          "contourcarpet": [
           {
            "colorbar": {
             "outlinewidth": 0,
             "ticks": ""
            },
            "type": "contourcarpet"
           }
          ],
          "heatmap": [
           {
            "colorbar": {
             "outlinewidth": 0,
             "ticks": ""
            },
            "colorscale": [
             [
              0,
              "#0d0887"
             ],
             [
              0.1111111111111111,
              "#46039f"
             ],
             [
              0.2222222222222222,
              "#7201a8"
             ],
             [
              0.3333333333333333,
              "#9c179e"
             ],
             [
              0.4444444444444444,
              "#bd3786"
             ],
             [
              0.5555555555555556,
              "#d8576b"
             ],
             [
              0.6666666666666666,
              "#ed7953"
             ],
             [
              0.7777777777777778,
              "#fb9f3a"
             ],
             [
              0.8888888888888888,
              "#fdca26"
             ],
             [
              1,
              "#f0f921"
             ]
            ],
            "type": "heatmap"
           }
          ],
          "histogram": [
           {
            "marker": {
             "pattern": {
              "fillmode": "overlay",
              "size": 10,
              "solidity": 0.2
             }
            },
            "type": "histogram"
           }
          ],
          "histogram2d": [
           {
            "colorbar": {
             "outlinewidth": 0,
             "ticks": ""
            },
            "colorscale": [
             [
              0,
              "#0d0887"
             ],
             [
              0.1111111111111111,
              "#46039f"
             ],
             [
              0.2222222222222222,
              "#7201a8"
             ],
             [
              0.3333333333333333,
              "#9c179e"
             ],
             [
              0.4444444444444444,
              "#bd3786"
             ],
             [
              0.5555555555555556,
              "#d8576b"
             ],
             [
              0.6666666666666666,
              "#ed7953"
             ],
             [
              0.7777777777777778,
              "#fb9f3a"
             ],
             [
              0.8888888888888888,
              "#fdca26"
             ],
             [
              1,
              "#f0f921"
             ]
            ],
            "type": "histogram2d"
           }
          ],
          "histogram2dcontour": [
           {
            "colorbar": {
             "outlinewidth": 0,
             "ticks": ""
            },
            "colorscale": [
             [
              0,
              "#0d0887"
             ],
             [
              0.1111111111111111,
              "#46039f"
             ],
             [
              0.2222222222222222,
              "#7201a8"
             ],
             [
              0.3333333333333333,
              "#9c179e"
             ],
             [
              0.4444444444444444,
              "#bd3786"
             ],
             [
              0.5555555555555556,
              "#d8576b"
             ],
             [
              0.6666666666666666,
              "#ed7953"
             ],
             [
              0.7777777777777778,
              "#fb9f3a"
             ],
             [
              0.8888888888888888,
              "#fdca26"
             ],
             [
              1,
              "#f0f921"
             ]
            ],
            "type": "histogram2dcontour"
           }
          ],
          "mesh3d": [
           {
            "colorbar": {
             "outlinewidth": 0,
             "ticks": ""
            },
            "type": "mesh3d"
           }
          ],
          "parcoords": [
           {
            "line": {
             "colorbar": {
              "outlinewidth": 0,
              "ticks": ""
             }
            },
            "type": "parcoords"
           }
          ],
          "pie": [
           {
            "automargin": true,
            "type": "pie"
           }
          ],
          "scatter": [
           {
            "fillpattern": {
             "fillmode": "overlay",
             "size": 10,
             "solidity": 0.2
            },
            "type": "scatter"
           }
          ],
          "scatter3d": [
           {
            "line": {
             "colorbar": {
              "outlinewidth": 0,
              "ticks": ""
             }
            },
            "marker": {
             "colorbar": {
              "outlinewidth": 0,
              "ticks": ""
             }
            },
            "type": "scatter3d"
           }
          ],
          "scattercarpet": [
           {
            "marker": {
             "colorbar": {
              "outlinewidth": 0,
              "ticks": ""
             }
            },
            "type": "scattercarpet"
           }
          ],
          "scattergeo": [
           {
            "marker": {
             "colorbar": {
              "outlinewidth": 0,
              "ticks": ""
             }
            },
            "type": "scattergeo"
           }
          ],
          "scattergl": [
           {
            "marker": {
             "colorbar": {
              "outlinewidth": 0,
              "ticks": ""
             }
            },
            "type": "scattergl"
           }
          ],
          "scattermap": [
           {
            "marker": {
             "colorbar": {
              "outlinewidth": 0,
              "ticks": ""
             }
            },
            "type": "scattermap"
           }
          ],
          "scattermapbox": [
           {
            "marker": {
             "colorbar": {
              "outlinewidth": 0,
              "ticks": ""
             }
            },
            "type": "scattermapbox"
           }
          ],
          "scatterpolar": [
           {
            "marker": {
             "colorbar": {
              "outlinewidth": 0,
              "ticks": ""
             }
            },
            "type": "scatterpolar"
           }
          ],
          "scatterpolargl": [
           {
            "marker": {
             "colorbar": {
              "outlinewidth": 0,
              "ticks": ""
             }
            },
            "type": "scatterpolargl"
           }
          ],
          "scatterternary": [
           {
            "marker": {
             "colorbar": {
              "outlinewidth": 0,
              "ticks": ""
             }
            },
            "type": "scatterternary"
           }
          ],
          "surface": [
           {
            "colorbar": {
             "outlinewidth": 0,
             "ticks": ""
            },
            "colorscale": [
             [
              0,
              "#0d0887"
             ],
             [
              0.1111111111111111,
              "#46039f"
             ],
             [
              0.2222222222222222,
              "#7201a8"
             ],
             [
              0.3333333333333333,
              "#9c179e"
             ],
             [
              0.4444444444444444,
              "#bd3786"
             ],
             [
              0.5555555555555556,
              "#d8576b"
             ],
             [
              0.6666666666666666,
              "#ed7953"
             ],
             [
              0.7777777777777778,
              "#fb9f3a"
             ],
             [
              0.8888888888888888,
              "#fdca26"
             ],
             [
              1,
              "#f0f921"
             ]
            ],
            "type": "surface"
           }
          ],
          "table": [
           {
            "cells": {
             "fill": {
              "color": "#EBF0F8"
             },
             "line": {
              "color": "white"
             }
            },
            "header": {
             "fill": {
              "color": "#C8D4E3"
             },
             "line": {
              "color": "white"
             }
            },
            "type": "table"
           }
          ]
         },
         "layout": {
          "annotationdefaults": {
           "arrowcolor": "#2a3f5f",
           "arrowhead": 0,
           "arrowwidth": 1
          },
          "autotypenumbers": "strict",
          "coloraxis": {
           "colorbar": {
            "outlinewidth": 0,
            "ticks": ""
           }
          },
          "colorscale": {
           "diverging": [
            [
             0,
             "#8e0152"
            ],
            [
             0.1,
             "#c51b7d"
            ],
            [
             0.2,
             "#de77ae"
            ],
            [
             0.3,
             "#f1b6da"
            ],
            [
             0.4,
             "#fde0ef"
            ],
            [
             0.5,
             "#f7f7f7"
            ],
            [
             0.6,
             "#e6f5d0"
            ],
            [
             0.7,
             "#b8e186"
            ],
            [
             0.8,
             "#7fbc41"
            ],
            [
             0.9,
             "#4d9221"
            ],
            [
             1,
             "#276419"
            ]
           ],
           "sequential": [
            [
             0,
             "#0d0887"
            ],
            [
             0.1111111111111111,
             "#46039f"
            ],
            [
             0.2222222222222222,
             "#7201a8"
            ],
            [
             0.3333333333333333,
             "#9c179e"
            ],
            [
             0.4444444444444444,
             "#bd3786"
            ],
            [
             0.5555555555555556,
             "#d8576b"
            ],
            [
             0.6666666666666666,
             "#ed7953"
            ],
            [
             0.7777777777777778,
             "#fb9f3a"
            ],
            [
             0.8888888888888888,
             "#fdca26"
            ],
            [
             1,
             "#f0f921"
            ]
           ],
           "sequentialminus": [
            [
             0,
             "#0d0887"
            ],
            [
             0.1111111111111111,
             "#46039f"
            ],
            [
             0.2222222222222222,
             "#7201a8"
            ],
            [
             0.3333333333333333,
             "#9c179e"
            ],
            [
             0.4444444444444444,
             "#bd3786"
            ],
            [
             0.5555555555555556,
             "#d8576b"
            ],
            [
             0.6666666666666666,
             "#ed7953"
            ],
            [
             0.7777777777777778,
             "#fb9f3a"
            ],
            [
             0.8888888888888888,
             "#fdca26"
            ],
            [
             1,
             "#f0f921"
            ]
           ]
          },
          "colorway": [
           "#636efa",
           "#EF553B",
           "#00cc96",
           "#ab63fa",
           "#FFA15A",
           "#19d3f3",
           "#FF6692",
           "#B6E880",
           "#FF97FF",
           "#FECB52"
          ],
          "font": {
           "color": "#2a3f5f"
          },
          "geo": {
           "bgcolor": "white",
           "lakecolor": "white",
           "landcolor": "#E5ECF6",
           "showlakes": true,
           "showland": true,
           "subunitcolor": "white"
          },
          "hoverlabel": {
           "align": "left"
          },
          "hovermode": "closest",
          "mapbox": {
           "style": "light"
          },
          "paper_bgcolor": "white",
          "plot_bgcolor": "#E5ECF6",
          "polar": {
           "angularaxis": {
            "gridcolor": "white",
            "linecolor": "white",
            "ticks": ""
           },
           "bgcolor": "#E5ECF6",
           "radialaxis": {
            "gridcolor": "white",
            "linecolor": "white",
            "ticks": ""
           }
          },
          "scene": {
           "xaxis": {
            "backgroundcolor": "#E5ECF6",
            "gridcolor": "white",
            "gridwidth": 2,
            "linecolor": "white",
            "showbackground": true,
            "ticks": "",
            "zerolinecolor": "white"
           },
           "yaxis": {
            "backgroundcolor": "#E5ECF6",
            "gridcolor": "white",
            "gridwidth": 2,
            "linecolor": "white",
            "showbackground": true,
            "ticks": "",
            "zerolinecolor": "white"
           },
           "zaxis": {
            "backgroundcolor": "#E5ECF6",
            "gridcolor": "white",
            "gridwidth": 2,
            "linecolor": "white",
            "showbackground": true,
            "ticks": "",
            "zerolinecolor": "white"
           }
          },
          "shapedefaults": {
           "line": {
            "color": "#2a3f5f"
           }
          },
          "ternary": {
           "aaxis": {
            "gridcolor": "white",
            "linecolor": "white",
            "ticks": ""
           },
           "baxis": {
            "gridcolor": "white",
            "linecolor": "white",
            "ticks": ""
           },
           "bgcolor": "#E5ECF6",
           "caxis": {
            "gridcolor": "white",
            "linecolor": "white",
            "ticks": ""
           }
          },
          "title": {
           "x": 0.05
          },
          "xaxis": {
           "automargin": true,
           "gridcolor": "white",
           "linecolor": "white",
           "ticks": "",
           "title": {
            "standoff": 15
           },
           "zerolinecolor": "white",
           "zerolinewidth": 2
          },
          "yaxis": {
           "automargin": true,
           "gridcolor": "white",
           "linecolor": "white",
           "ticks": "",
           "title": {
            "standoff": 15
           },
           "zerolinecolor": "white",
           "zerolinewidth": 2
          }
         }
        },
        "title": {
         "text": "Experiential Dimensions by Review"
        },
        "xaxis": {
         "anchor": "y",
         "categoryorder": "total descending",
         "domain": [
          0,
          1
         ],
         "title": {
          "text": "Experiential Dimension"
         }
        },
        "yaxis": {
         "anchor": "x",
         "domain": [
          0,
          1
         ],
         "title": {
          "text": "Confidence Score"
         }
        }
       }
      }
     },
     "metadata": {},
     "output_type": "display_data"
    }
   ],
   "source": [
    "# 1. Bar Chart with Plotly\n",
    "fig = px.bar(pred_df, x=\"Dimension\", y=\"Score\", color=\"Review\", barmode=\"group\",\n",
    "             title=\"Experiential Dimensions by Review\",\n",
    "             labels={\"Score\": \"Confidence Score\", \"Dimension\": \"Experiential Dimension\"},\n",
    "             height=500)\n",
    "\n",
    "# Update layout\n",
    "fig.update_layout(\n",
    "    xaxis={'categoryorder': 'total descending'},\n",
    "    legend_title_text='Review',\n",
    "    font=dict(size=12)\n",
    ")\n",
    "\n",
    "fig.show()"
   ]
  },
  {
   "cell_type": "code",
   "execution_count": 10,
   "id": "2ac78732",
   "metadata": {},
   "outputs": [
    {
     "data": {
      "image/png": "[encoded data removed]",
      "text/plain": [
       "<Figure size 1200x800 with 2 Axes>"
      ]
     },
     "metadata": {},
     "output_type": "display_data"
    }
   ],
   "source": [
    "# 2. Heatmap showing all dimensions for each review\n",
    "pivot_df = pred_df.pivot(index=\"Review\", columns=\"Dimension\", values=\"Score\")\n",
    "\n",
    "# Create a heatmap\n",
    "plt.figure(figsize=(12, 8))\n",
    "heatmap = sns.heatmap(pivot_df, annot=True, cmap=\"YlGnBu\", fmt=\".2f\", linewidths=.5)\n",
    "plt.title(\"Confidence Scores Across Experiential Dimensions\", fontsize=16)\n",
    "plt.ylabel(\"Review\", fontsize=12)\n",
    "plt.xlabel(\"Dimension\", fontsize=12)\n",
    "plt.tight_layout()\n",
    "plt.show()"
   ]
  },
  {
   "cell_type": "markdown",
   "id": "47e25936",
   "metadata": {},
   "source": [
    "## Using the Explain Endpoint\n",
    "\n",
    "Now let's explore the explainability features by calling the `/explain` endpoint. This endpoint provides SHAP values to explain model predictions."
   ]
  },
  {
   "cell_type": "code",
   "execution_count": 11,
   "id": "3e1d81ef",
   "metadata": {},
   "outputs": [],
   "source": [
    "def get_explanation(review_text, top_n_words=5):\n",
    "    \"\"\"\n",
    "    Call the /explain endpoint to get SHAP explanations for a review\n",
    "    \n",
    "    Parameters:\n",
    "        review_text (str): The tourism review text to analyze\n",
    "        top_n_words (int): Number of top influential words to return\n",
    "        \n",
    "    Returns:\n",
    "        dict: Dictionary with HTML visualization and top words\n",
    "    \"\"\"\n",
    "    url = f\"{API_BASE_URL}/explain\"\n",
    "    payload = {\n",
    "        \"review_text\": review_text,\n",
    "        \"top_n_words\": top_n_words\n",
    "    }\n",
    "    \n",
    "    try:\n",
    "        response = requests.post(url, json=payload)\n",
    "        response.raise_for_status()\n",
    "        return response.json()\n",
    "    except requests.exceptions.RequestException as e:\n",
    "        print(f\"Error calling explain endpoint: {e}\")\n",
    "        return {\"html\": \"\", \"top_words\": {}}"
   ]
  },
  {
   "cell_type": "code",
   "execution_count": 12,
   "id": "edca94bd",
   "metadata": {},
   "outputs": [
    {
     "name": "stdout",
     "output_type": "stream",
     "text": [
      "Error calling explain endpoint: 500 Server Error: Internal Server Error for url: http://localhost:8000/explain\n",
      "SHAP Force Plot Visualization:\n"
     ]
    },
    {
     "data": {
      "text/html": [],
      "text/plain": [
       "<IPython.core.display.HTML object>"
      ]
     },
     "metadata": {},
     "output_type": "display_data"
    }
   ],
   "source": [
    "# Let's get an explanation for our first review (eco-lodge)\n",
    "explanation = get_explanation(sample_reviews[0], top_n_words=8)\n",
    "\n",
    "# Display the SHAP visualization\n",
    "if explanation and \"html\" in explanation:\n",
    "    print(\"SHAP Force Plot Visualization:\")\n",
    "    display(HTML(explanation[\"html\"]))\n",
    "else:\n",
    "    print(\"Failed to get explanation or no HTML content returned\")"
   ]
  },
  {
   "cell_type": "markdown",
   "id": "4c3afc72",
   "metadata": {},
   "source": [
    "### Visualizing Top Influential Words\n",
    "\n",
    "Let's examine the top words that influenced the model's prediction for each experiential dimension:"
   ]
  },
  {
   "cell_type": "code",
   "execution_count": 13,
   "id": "e6ee259d",
   "metadata": {},
   "outputs": [
    {
     "name": "stdout",
     "output_type": "stream",
     "text": [
      "Top influential words for each dimension:\n"
     ]
    },
    {
     "data": {
      "text/html": [
       "<div>\n",
       "<style scoped>\n",
       "    .dataframe tbody tr th:only-of-type {\n",
       "        vertical-align: middle;\n",
       "    }\n",
       "\n",
       "    .dataframe tbody tr th {\n",
       "        vertical-align: top;\n",
       "    }\n",
       "\n",
       "    .dataframe thead th {\n",
       "        text-align: right;\n",
       "    }\n",
       "</style>\n",
       "<table border=\"1\" class=\"dataframe\">\n",
       "  <thead>\n",
       "    <tr style=\"text-align: right;\">\n",
       "      <th></th>\n",
       "    </tr>\n",
       "  </thead>\n",
       "  <tbody>\n",
       "  </tbody>\n",
       "</table>\n",
       "</div>"
      ],
      "text/plain": [
       "Empty DataFrame\n",
       "Columns: []\n",
       "Index: []"
      ]
     },
     "metadata": {},
     "output_type": "display_data"
    },
    {
     "ename": "ValueError",
     "evalue": "Value of 'x' is not the name of a column in 'data_frame'. Expected one of [] but received: Value",
     "output_type": "error",
     "traceback": [
      "\u001b[31m---------------------------------------------------------------------------\u001b[39m",
      "\u001b[31mValueError\u001b[39m                                Traceback (most recent call last)",
      "\u001b[36mCell\u001b[39m\u001b[36m \u001b[39m\u001b[32mIn[13]\u001b[39m\u001b[32m, line 22\u001b[39m\n\u001b[32m     19\u001b[39m display(top_words_df)\n\u001b[32m     21\u001b[39m \u001b[38;5;66;03m# Create a horizontal bar chart for top words\u001b[39;00m\n\u001b[32m---> \u001b[39m\u001b[32m22\u001b[39m fig = \u001b[43mpx\u001b[49m\u001b[43m.\u001b[49m\u001b[43mbar\u001b[49m\u001b[43m(\u001b[49m\n\u001b[32m     23\u001b[39m \u001b[43m    \u001b[49m\u001b[43mtop_words_df\u001b[49m\u001b[43m,\u001b[49m\u001b[43m \u001b[49m\n\u001b[32m     24\u001b[39m \u001b[43m    \u001b[49m\u001b[43mx\u001b[49m\u001b[43m=\u001b[49m\u001b[33;43m\"\u001b[39;49m\u001b[33;43mValue\u001b[39;49m\u001b[33;43m\"\u001b[39;49m\u001b[43m,\u001b[49m\u001b[43m \u001b[49m\n\u001b[32m     25\u001b[39m \u001b[43m    \u001b[49m\u001b[43my\u001b[49m\u001b[43m=\u001b[49m\u001b[33;43m\"\u001b[39;49m\u001b[33;43mWord\u001b[39;49m\u001b[33;43m\"\u001b[39;49m\u001b[43m,\u001b[49m\u001b[43m \u001b[49m\n\u001b[32m     26\u001b[39m \u001b[43m    \u001b[49m\u001b[43mcolor\u001b[49m\u001b[43m=\u001b[49m\u001b[33;43m\"\u001b[39;49m\u001b[33;43mImpact\u001b[39;49m\u001b[33;43m\"\u001b[39;49m\u001b[43m,\u001b[49m\n\u001b[32m     27\u001b[39m \u001b[43m    \u001b[49m\u001b[43mfacet_col\u001b[49m\u001b[43m=\u001b[49m\u001b[33;43m\"\u001b[39;49m\u001b[33;43mDimension\u001b[39;49m\u001b[33;43m\"\u001b[39;49m\u001b[43m,\u001b[49m\n\u001b[32m     28\u001b[39m \u001b[43m    \u001b[49m\u001b[43mfacet_col_wrap\u001b[49m\u001b[43m=\u001b[49m\u001b[32;43m2\u001b[39;49m\u001b[43m,\u001b[49m\u001b[43m  \u001b[49m\u001b[38;5;66;43;03m# Two columns in the facet grid\u001b[39;49;00m\n\u001b[32m     29\u001b[39m \u001b[43m    \u001b[49m\u001b[43mheight\u001b[49m\u001b[43m=\u001b[49m\u001b[32;43m500\u001b[39;49m\u001b[43m,\u001b[49m\n\u001b[32m     30\u001b[39m \u001b[43m    \u001b[49m\u001b[43mwidth\u001b[49m\u001b[43m=\u001b[49m\u001b[32;43m800\u001b[39;49m\u001b[43m,\u001b[49m\n\u001b[32m     31\u001b[39m \u001b[43m    \u001b[49m\u001b[43mcolor_discrete_map\u001b[49m\u001b[43m=\u001b[49m\u001b[43m{\u001b[49m\u001b[33;43m\"\u001b[39;49m\u001b[33;43mPositive\u001b[39;49m\u001b[33;43m\"\u001b[39;49m\u001b[43m:\u001b[49m\u001b[43m \u001b[49m\u001b[33;43m\"\u001b[39;49m\u001b[33;43m#198754\u001b[39;49m\u001b[33;43m\"\u001b[39;49m\u001b[43m,\u001b[49m\u001b[43m \u001b[49m\u001b[33;43m\"\u001b[39;49m\u001b[33;43mNegative\u001b[39;49m\u001b[33;43m\"\u001b[39;49m\u001b[43m:\u001b[49m\u001b[43m \u001b[49m\u001b[33;43m\"\u001b[39;49m\u001b[33;43m#dc3545\u001b[39;49m\u001b[33;43m\"\u001b[39;49m\u001b[43m}\u001b[49m\u001b[43m,\u001b[49m\n\u001b[32m     32\u001b[39m \u001b[43m    \u001b[49m\u001b[43mlabels\u001b[49m\u001b[43m=\u001b[49m\u001b[43m{\u001b[49m\u001b[33;43m\"\u001b[39;49m\u001b[33;43mValue\u001b[39;49m\u001b[33;43m\"\u001b[39;49m\u001b[43m:\u001b[49m\u001b[43m \u001b[49m\u001b[33;43m\"\u001b[39;49m\u001b[33;43mSHAP Value (Impact)\u001b[39;49m\u001b[33;43m\"\u001b[39;49m\u001b[43m,\u001b[49m\u001b[43m \u001b[49m\u001b[33;43m\"\u001b[39;49m\u001b[33;43mWord\u001b[39;49m\u001b[33;43m\"\u001b[39;49m\u001b[43m:\u001b[49m\u001b[43m \u001b[49m\u001b[33;43m\"\u001b[39;49m\u001b[33;43m\"\u001b[39;49m\u001b[43m}\u001b[49m\u001b[43m,\u001b[49m\n\u001b[32m     33\u001b[39m \u001b[43m    \u001b[49m\u001b[43mtitle\u001b[49m\u001b[43m=\u001b[49m\u001b[33;43m\"\u001b[39;49m\u001b[33;43mTop Words Influencing Model Predictions\u001b[39;49m\u001b[33;43m\"\u001b[39;49m\u001b[43m,\u001b[49m\n\u001b[32m     34\u001b[39m \u001b[43m    \u001b[49m\u001b[43morientation\u001b[49m\u001b[43m=\u001b[49m\u001b[33;43m'\u001b[39;49m\u001b[33;43mh\u001b[39;49m\u001b[33;43m'\u001b[39;49m\u001b[43m  \u001b[49m\u001b[38;5;66;43;03m# Horizontal bars\u001b[39;49;00m\n\u001b[32m     35\u001b[39m \u001b[43m\u001b[49m\u001b[43m)\u001b[49m\n\u001b[32m     37\u001b[39m fig.update_yaxes(categoryorder=\u001b[33m'\u001b[39m\u001b[33mtotal ascending\u001b[39m\u001b[33m'\u001b[39m)\n\u001b[32m     38\u001b[39m fig.update_layout(\n\u001b[32m     39\u001b[39m     font=\u001b[38;5;28mdict\u001b[39m(size=\u001b[32m12\u001b[39m),\n\u001b[32m     40\u001b[39m     legend_title_text=\u001b[33m'\u001b[39m\u001b[33mImpact Type\u001b[39m\u001b[33m'\u001b[39m\n\u001b[32m     41\u001b[39m )\n",
      "\u001b[36mFile \u001b[39m\u001b[32m~/serendip-travel/explainable-tourism-nlp/.venv/lib/python3.12/site-packages/plotly/express/_chart_types.py:381\u001b[39m, in \u001b[36mbar\u001b[39m\u001b[34m(data_frame, x, y, color, pattern_shape, facet_row, facet_col, facet_col_wrap, facet_row_spacing, facet_col_spacing, hover_name, hover_data, custom_data, text, base, error_x, error_x_minus, error_y, error_y_minus, animation_frame, animation_group, category_orders, labels, color_discrete_sequence, color_discrete_map, color_continuous_scale, pattern_shape_sequence, pattern_shape_map, range_color, color_continuous_midpoint, opacity, orientation, barmode, log_x, log_y, range_x, range_y, text_auto, title, subtitle, template, width, height)\u001b[39m\n\u001b[32m    332\u001b[39m \u001b[38;5;28;01mdef\u001b[39;00m\u001b[38;5;250m \u001b[39m\u001b[34mbar\u001b[39m(\n\u001b[32m    333\u001b[39m     data_frame=\u001b[38;5;28;01mNone\u001b[39;00m,\n\u001b[32m    334\u001b[39m     x=\u001b[38;5;28;01mNone\u001b[39;00m,\n\u001b[32m   (...)\u001b[39m\u001b[32m    375\u001b[39m     height=\u001b[38;5;28;01mNone\u001b[39;00m,\n\u001b[32m    376\u001b[39m ) -> go.Figure:\n\u001b[32m    377\u001b[39m \u001b[38;5;250m    \u001b[39m\u001b[33;03m\"\"\"\u001b[39;00m\n\u001b[32m    378\u001b[39m \u001b[33;03m    In a bar plot, each row of `data_frame` is represented as a rectangular\u001b[39;00m\n\u001b[32m    379\u001b[39m \u001b[33;03m    mark.\u001b[39;00m\n\u001b[32m    380\u001b[39m \u001b[33;03m    \"\"\"\u001b[39;00m\n\u001b[32m--> \u001b[39m\u001b[32m381\u001b[39m     \u001b[38;5;28;01mreturn\u001b[39;00m \u001b[43mmake_figure\u001b[49m\u001b[43m(\u001b[49m\n\u001b[32m    382\u001b[39m \u001b[43m        \u001b[49m\u001b[43margs\u001b[49m\u001b[43m=\u001b[49m\u001b[38;5;28;43mlocals\u001b[39;49m\u001b[43m(\u001b[49m\u001b[43m)\u001b[49m\u001b[43m,\u001b[49m\n\u001b[32m    383\u001b[39m \u001b[43m        \u001b[49m\u001b[43mconstructor\u001b[49m\u001b[43m=\u001b[49m\u001b[43mgo\u001b[49m\u001b[43m.\u001b[49m\u001b[43mBar\u001b[49m\u001b[43m,\u001b[49m\n\u001b[32m    384\u001b[39m \u001b[43m        \u001b[49m\u001b[43mtrace_patch\u001b[49m\u001b[43m=\u001b[49m\u001b[38;5;28;43mdict\u001b[39;49m\u001b[43m(\u001b[49m\u001b[43mtextposition\u001b[49m\u001b[43m=\u001b[49m\u001b[33;43m\"\u001b[39;49m\u001b[33;43mauto\u001b[39;49m\u001b[33;43m\"\u001b[39;49m\u001b[43m)\u001b[49m\u001b[43m,\u001b[49m\n\u001b[32m    385\u001b[39m \u001b[43m        \u001b[49m\u001b[43mlayout_patch\u001b[49m\u001b[43m=\u001b[49m\u001b[38;5;28;43mdict\u001b[39;49m\u001b[43m(\u001b[49m\u001b[43mbarmode\u001b[49m\u001b[43m=\u001b[49m\u001b[43mbarmode\u001b[49m\u001b[43m)\u001b[49m\u001b[43m,\u001b[49m\n\u001b[32m    386\u001b[39m \u001b[43m    \u001b[49m\u001b[43m)\u001b[49m\n",
      "\u001b[36mFile \u001b[39m\u001b[32m~/serendip-travel/explainable-tourism-nlp/.venv/lib/python3.12/site-packages/plotly/express/_core.py:2491\u001b[39m, in \u001b[36mmake_figure\u001b[39m\u001b[34m(args, constructor, trace_patch, layout_patch)\u001b[39m\n\u001b[32m   2488\u001b[39m layout_patch = layout_patch \u001b[38;5;129;01mor\u001b[39;00m {}\n\u001b[32m   2489\u001b[39m apply_default_cascade(args)\n\u001b[32m-> \u001b[39m\u001b[32m2491\u001b[39m args = \u001b[43mbuild_dataframe\u001b[49m\u001b[43m(\u001b[49m\u001b[43margs\u001b[49m\u001b[43m,\u001b[49m\u001b[43m \u001b[49m\u001b[43mconstructor\u001b[49m\u001b[43m)\u001b[49m\n\u001b[32m   2492\u001b[39m \u001b[38;5;28;01mif\u001b[39;00m constructor \u001b[38;5;129;01min\u001b[39;00m [go.Treemap, go.Sunburst, go.Icicle] \u001b[38;5;129;01mand\u001b[39;00m args[\u001b[33m\"\u001b[39m\u001b[33mpath\u001b[39m\u001b[33m\"\u001b[39m] \u001b[38;5;129;01mis\u001b[39;00m \u001b[38;5;129;01mnot\u001b[39;00m \u001b[38;5;28;01mNone\u001b[39;00m:\n\u001b[32m   2493\u001b[39m     args = process_dataframe_hierarchy(args)\n",
      "\u001b[36mFile \u001b[39m\u001b[32m~/serendip-travel/explainable-tourism-nlp/.venv/lib/python3.12/site-packages/plotly/express/_core.py:1737\u001b[39m, in \u001b[36mbuild_dataframe\u001b[39m\u001b[34m(args, constructor)\u001b[39m\n\u001b[32m   1734\u001b[39m     args[\u001b[33m\"\u001b[39m\u001b[33mcolor\u001b[39m\u001b[33m\"\u001b[39m] = \u001b[38;5;28;01mNone\u001b[39;00m\n\u001b[32m   1735\u001b[39m \u001b[38;5;66;03m# now that things have been prepped, we do the systematic rewriting of `args`\u001b[39;00m\n\u001b[32m-> \u001b[39m\u001b[32m1737\u001b[39m df_output, wide_id_vars = \u001b[43mprocess_args_into_dataframe\u001b[49m\u001b[43m(\u001b[49m\n\u001b[32m   1738\u001b[39m \u001b[43m    \u001b[49m\u001b[43margs\u001b[49m\u001b[43m,\u001b[49m\n\u001b[32m   1739\u001b[39m \u001b[43m    \u001b[49m\u001b[43mwide_mode\u001b[49m\u001b[43m,\u001b[49m\n\u001b[32m   1740\u001b[39m \u001b[43m    \u001b[49m\u001b[43mvar_name\u001b[49m\u001b[43m,\u001b[49m\n\u001b[32m   1741\u001b[39m \u001b[43m    \u001b[49m\u001b[43mvalue_name\u001b[49m\u001b[43m,\u001b[49m\n\u001b[32m   1742\u001b[39m \u001b[43m    \u001b[49m\u001b[43mis_pd_like\u001b[49m\u001b[43m,\u001b[49m\n\u001b[32m   1743\u001b[39m \u001b[43m    \u001b[49m\u001b[43mnative_namespace\u001b[49m\u001b[43m,\u001b[49m\n\u001b[32m   1744\u001b[39m \u001b[43m\u001b[49m\u001b[43m)\u001b[49m\n\u001b[32m   1745\u001b[39m df_output: nw.DataFrame\n\u001b[32m   1746\u001b[39m \u001b[38;5;66;03m# now that `df_output` exists and `args` contains only references, we complete\u001b[39;00m\n\u001b[32m   1747\u001b[39m \u001b[38;5;66;03m# the special-case and wide-mode handling by further rewriting args and/or mutating\u001b[39;00m\n\u001b[32m   1748\u001b[39m \u001b[38;5;66;03m# df_output\u001b[39;00m\n",
      "\u001b[36mFile \u001b[39m\u001b[32m~/serendip-travel/explainable-tourism-nlp/.venv/lib/python3.12/site-packages/plotly/express/_core.py:1338\u001b[39m, in \u001b[36mprocess_args_into_dataframe\u001b[39m\u001b[34m(args, wide_mode, var_name, value_name, is_pd_like, native_namespace)\u001b[39m\n\u001b[32m   1336\u001b[39m         \u001b[38;5;28;01mif\u001b[39;00m argument == \u001b[33m\"\u001b[39m\u001b[33mindex\u001b[39m\u001b[33m\"\u001b[39m:\n\u001b[32m   1337\u001b[39m             err_msg += \u001b[33m\"\u001b[39m\u001b[38;5;130;01m\\n\u001b[39;00m\u001b[33m To use the index, pass it in directly as `df.index`.\u001b[39m\u001b[33m\"\u001b[39m\n\u001b[32m-> \u001b[39m\u001b[32m1338\u001b[39m         \u001b[38;5;28;01mraise\u001b[39;00m \u001b[38;5;167;01mValueError\u001b[39;00m(err_msg)\n\u001b[32m   1339\u001b[39m \u001b[38;5;28;01melif\u001b[39;00m length \u001b[38;5;129;01mand\u001b[39;00m (actual_len := \u001b[38;5;28mlen\u001b[39m(df_input)) != length:\n\u001b[32m   1340\u001b[39m     \u001b[38;5;28;01mraise\u001b[39;00m \u001b[38;5;167;01mValueError\u001b[39;00m(\n\u001b[32m   1341\u001b[39m         \u001b[33m\"\u001b[39m\u001b[33mAll arguments should have the same length. \u001b[39m\u001b[33m\"\u001b[39m\n\u001b[32m   1342\u001b[39m         \u001b[33m\"\u001b[39m\u001b[33mThe length of column argument `df[\u001b[39m\u001b[38;5;132;01m%s\u001b[39;00m\u001b[33m]` is \u001b[39m\u001b[38;5;132;01m%d\u001b[39;00m\u001b[33m, whereas the \u001b[39m\u001b[33m\"\u001b[39m\n\u001b[32m   (...)\u001b[39m\u001b[32m   1349\u001b[39m         )\n\u001b[32m   1350\u001b[39m     )\n",
      "\u001b[31mValueError\u001b[39m: Value of 'x' is not the name of a column in 'data_frame'. Expected one of [] but received: Value"
     ]
    }
   ],
   "source": [
    "# Check if we have top words data\n",
    "if \"top_words\" in explanation:\n",
    "    # Create a dataframe for visualization\n",
    "    top_words_data = []\n",
    "    \n",
    "    for dimension, words in explanation[\"top_words\"].items():\n",
    "        for word_info in words:\n",
    "            top_words_data.append({\n",
    "                \"Dimension\": dimension,\n",
    "                \"Word\": word_info[\"word\"],\n",
    "                \"Value\": word_info[\"value\"],\n",
    "                \"Impact\": \"Positive\" if word_info[\"is_positive\"] else \"Negative\"\n",
    "            })\n",
    "    \n",
    "    top_words_df = pd.DataFrame(top_words_data)\n",
    "    \n",
    "    # Display the dataframe\n",
    "    print(\"Top influential words for each dimension:\")\n",
    "    display(top_words_df)\n",
    "    \n",
    "    # Create a horizontal bar chart for top words\n",
    "    fig = px.bar(\n",
    "        top_words_df, \n",
    "        x=\"Value\", \n",
    "        y=\"Word\", \n",
    "        color=\"Impact\",\n",
    "        facet_col=\"Dimension\",\n",
    "        facet_col_wrap=2,  # Two columns in the facet grid\n",
    "        height=500,\n",
    "        width=800,\n",
    "        color_discrete_map={\"Positive\": \"#198754\", \"Negative\": \"#dc3545\"},\n",
    "        labels={\"Value\": \"SHAP Value (Impact)\", \"Word\": \"\"},\n",
    "        title=\"Top Words Influencing Model Predictions\",\n",
    "        orientation='h'  # Horizontal bars\n",
    "    )\n",
    "    \n",
    "    fig.update_yaxes(categoryorder='total ascending')\n",
    "    fig.update_layout(\n",
    "        font=dict(size=12),\n",
    "        legend_title_text='Impact Type'\n",
    "    )\n",
    "    \n",
    "    fig.show()\n",
    "else:\n",
    "    print(\"No top words data available in the explanation response.\")"
   ]
  },
  {
   "cell_type": "markdown",
   "id": "b2e80986",
   "metadata": {},
   "source": [
    "## Analyzing Multiple Reviews\n",
    "\n",
    "Let's analyze all our reviews to get a comprehensive view:"
   ]
  },
  {
   "cell_type": "code",
   "execution_count": 14,
   "id": "11a05437",
   "metadata": {},
   "outputs": [
    {
     "name": "stdout",
     "output_type": "stream",
     "text": [
      "Getting explanations for all reviews...\n",
      "Getting explanation for review 1...\n",
      "Error calling explain endpoint: 500 Server Error: Internal Server Error for url: http://localhost:8000/explain\n",
      "Getting explanation for review 2...\n",
      "Error calling explain endpoint: 500 Server Error: Internal Server Error for url: http://localhost:8000/explain\n",
      "Getting explanation for review 2...\n",
      "Error calling explain endpoint: 500 Server Error: Internal Server Error for url: http://localhost:8000/explain\n",
      "Getting explanation for review 3...\n",
      "Error calling explain endpoint: 500 Server Error: Internal Server Error for url: http://localhost:8000/explain\n",
      "Getting explanation for review 3...\n",
      "Error calling explain endpoint: 500 Server Error: Internal Server Error for url: http://localhost:8000/explain\n",
      "Getting explanation for review 4...\n",
      "Error calling explain endpoint: 500 Server Error: Internal Server Error for url: http://localhost:8000/explain\n",
      "Getting explanation for review 4...\n",
      "Error calling explain endpoint: 500 Server Error: Internal Server Error for url: http://localhost:8000/explain\n",
      "Done getting all explanations!\n",
      "Done getting all explanations!\n"
     ]
    }
   ],
   "source": [
    "# Get explanations for all reviews (this may take a while depending on the API speed)\n",
    "print(\"Getting explanations for all reviews...\")\n",
    "all_explanations = []\n",
    "\n",
    "for i, review in enumerate(sample_reviews):\n",
    "    print(f\"Getting explanation for review {i+1}...\")\n",
    "    expl = get_explanation(review, top_n_words=5)\n",
    "    all_explanations.append(expl)\n",
    "    # Add a delay to avoid overwhelming the API\n",
    "    time.sleep(1)\n",
    "    \n",
    "print(\"Done getting all explanations!\")"
   ]
  },
  {
   "cell_type": "code",
   "execution_count": 15,
   "id": "da3566cf",
   "metadata": {},
   "outputs": [
    {
     "data": {
      "text/html": [
       "<div>\n",
       "<style scoped>\n",
       "    .dataframe tbody tr th:only-of-type {\n",
       "        vertical-align: middle;\n",
       "    }\n",
       "\n",
       "    .dataframe tbody tr th {\n",
       "        vertical-align: top;\n",
       "    }\n",
       "\n",
       "    .dataframe thead th {\n",
       "        text-align: right;\n",
       "    }\n",
       "</style>\n",
       "<table border=\"1\" class=\"dataframe\">\n",
       "  <thead>\n",
       "    <tr style=\"text-align: right;\">\n",
       "      <th></th>\n",
       "    </tr>\n",
       "  </thead>\n",
       "  <tbody>\n",
       "  </tbody>\n",
       "</table>\n",
       "</div>"
      ],
      "text/plain": [
       "Empty DataFrame\n",
       "Columns: []\n",
       "Index: []"
      ]
     },
     "execution_count": 15,
     "metadata": {},
     "output_type": "execute_result"
    }
   ],
   "source": [
    "# Combine all top words data\n",
    "all_top_words = []\n",
    "\n",
    "for i, expl in enumerate(all_explanations):\n",
    "    if \"top_words\" in expl:\n",
    "        for dimension, words in expl[\"top_words\"].items():\n",
    "            for word_info in words:\n",
    "                all_top_words.append({\n",
    "                    \"Review\": sample_reviews_short[i],\n",
    "                    \"Dimension\": dimension,\n",
    "                    \"Word\": word_info[\"word\"],\n",
    "                    \"Value\": word_info[\"value\"],\n",
    "                    \"Impact\": \"Positive\" if word_info[\"is_positive\"] else \"Negative\"\n",
    "                })\n",
    "\n",
    "# Create a DataFrame\n",
    "all_words_df = pd.DataFrame(all_top_words)\n",
    "\n",
    "# Display the first few rows\n",
    "all_words_df.head(10)"
   ]
  },
  {
   "cell_type": "code",
   "execution_count": 16,
   "id": "ba3f4082",
   "metadata": {},
   "outputs": [
    {
     "ename": "KeyError",
     "evalue": "'Dimension'",
     "output_type": "error",
     "traceback": [
      "\u001b[31m---------------------------------------------------------------------------\u001b[39m",
      "\u001b[31mKeyError\u001b[39m                                  Traceback (most recent call last)",
      "\u001b[36mCell\u001b[39m\u001b[36m \u001b[39m\u001b[32mIn[16]\u001b[39m\u001b[32m, line 5\u001b[39m\n\u001b[32m      2\u001b[39m plt.figure(figsize=(\u001b[32m14\u001b[39m, \u001b[32m10\u001b[39m))\n\u001b[32m      4\u001b[39m \u001b[38;5;66;03m# Group by dimension and word, then calculate average impact\u001b[39;00m\n\u001b[32m----> \u001b[39m\u001b[32m5\u001b[39m dimension_word_impact = \u001b[43mall_words_df\u001b[49m\u001b[43m.\u001b[49m\u001b[43mgroupby\u001b[49m\u001b[43m(\u001b[49m\u001b[43m[\u001b[49m\u001b[33;43m'\u001b[39;49m\u001b[33;43mDimension\u001b[39;49m\u001b[33;43m'\u001b[39;49m\u001b[43m,\u001b[49m\u001b[43m \u001b[49m\u001b[33;43m'\u001b[39;49m\u001b[33;43mWord\u001b[39;49m\u001b[33;43m'\u001b[39;49m\u001b[43m]\u001b[49m\u001b[43m)\u001b[49m[\u001b[33m'\u001b[39m\u001b[33mValue\u001b[39m\u001b[33m'\u001b[39m].mean().reset_index()\n\u001b[32m      7\u001b[39m \u001b[38;5;66;03m# Get top 10 words per dimension by absolute value\u001b[39;00m\n\u001b[32m      8\u001b[39m top_words_by_dimension = {}\n",
      "\u001b[36mFile \u001b[39m\u001b[32m~/serendip-travel/explainable-tourism-nlp/.venv/lib/python3.12/site-packages/pandas/core/frame.py:9190\u001b[39m, in \u001b[36mDataFrame.groupby\u001b[39m\u001b[34m(self, by, axis, level, as_index, sort, group_keys, observed, dropna)\u001b[39m\n\u001b[32m   9187\u001b[39m \u001b[38;5;28;01mif\u001b[39;00m level \u001b[38;5;129;01mis\u001b[39;00m \u001b[38;5;28;01mNone\u001b[39;00m \u001b[38;5;129;01mand\u001b[39;00m by \u001b[38;5;129;01mis\u001b[39;00m \u001b[38;5;28;01mNone\u001b[39;00m:\n\u001b[32m   9188\u001b[39m     \u001b[38;5;28;01mraise\u001b[39;00m \u001b[38;5;167;01mTypeError\u001b[39;00m(\u001b[33m\"\u001b[39m\u001b[33mYou have to supply one of \u001b[39m\u001b[33m'\u001b[39m\u001b[33mby\u001b[39m\u001b[33m'\u001b[39m\u001b[33m and \u001b[39m\u001b[33m'\u001b[39m\u001b[33mlevel\u001b[39m\u001b[33m'\u001b[39m\u001b[33m\"\u001b[39m)\n\u001b[32m-> \u001b[39m\u001b[32m9190\u001b[39m \u001b[38;5;28;01mreturn\u001b[39;00m \u001b[43mDataFrameGroupBy\u001b[49m\u001b[43m(\u001b[49m\n\u001b[32m   9191\u001b[39m \u001b[43m    \u001b[49m\u001b[43mobj\u001b[49m\u001b[43m=\u001b[49m\u001b[38;5;28;43mself\u001b[39;49m\u001b[43m,\u001b[49m\n\u001b[32m   9192\u001b[39m \u001b[43m    \u001b[49m\u001b[43mkeys\u001b[49m\u001b[43m=\u001b[49m\u001b[43mby\u001b[49m\u001b[43m,\u001b[49m\n\u001b[32m   9193\u001b[39m \u001b[43m    \u001b[49m\u001b[43maxis\u001b[49m\u001b[43m=\u001b[49m\u001b[43maxis\u001b[49m\u001b[43m,\u001b[49m\n\u001b[32m   9194\u001b[39m \u001b[43m    \u001b[49m\u001b[43mlevel\u001b[49m\u001b[43m=\u001b[49m\u001b[43mlevel\u001b[49m\u001b[43m,\u001b[49m\n\u001b[32m   9195\u001b[39m \u001b[43m    \u001b[49m\u001b[43mas_index\u001b[49m\u001b[43m=\u001b[49m\u001b[43mas_index\u001b[49m\u001b[43m,\u001b[49m\n\u001b[32m   9196\u001b[39m \u001b[43m    \u001b[49m\u001b[43msort\u001b[49m\u001b[43m=\u001b[49m\u001b[43msort\u001b[49m\u001b[43m,\u001b[49m\n\u001b[32m   9197\u001b[39m \u001b[43m    \u001b[49m\u001b[43mgroup_keys\u001b[49m\u001b[43m=\u001b[49m\u001b[43mgroup_keys\u001b[49m\u001b[43m,\u001b[49m\n\u001b[32m   9198\u001b[39m \u001b[43m    \u001b[49m\u001b[43mobserved\u001b[49m\u001b[43m=\u001b[49m\u001b[43mobserved\u001b[49m\u001b[43m,\u001b[49m\n\u001b[32m   9199\u001b[39m \u001b[43m    \u001b[49m\u001b[43mdropna\u001b[49m\u001b[43m=\u001b[49m\u001b[43mdropna\u001b[49m\u001b[43m,\u001b[49m\n\u001b[32m   9200\u001b[39m \u001b[43m\u001b[49m\u001b[43m)\u001b[49m\n",
      "\u001b[36mFile \u001b[39m\u001b[32m~/serendip-travel/explainable-tourism-nlp/.venv/lib/python3.12/site-packages/pandas/core/groupby/groupby.py:1330\u001b[39m, in \u001b[36mGroupBy.__init__\u001b[39m\u001b[34m(self, obj, keys, axis, level, grouper, exclusions, selection, as_index, sort, group_keys, observed, dropna)\u001b[39m\n\u001b[32m   1327\u001b[39m \u001b[38;5;28mself\u001b[39m.dropna = dropna\n\u001b[32m   1329\u001b[39m \u001b[38;5;28;01mif\u001b[39;00m grouper \u001b[38;5;129;01mis\u001b[39;00m \u001b[38;5;28;01mNone\u001b[39;00m:\n\u001b[32m-> \u001b[39m\u001b[32m1330\u001b[39m     grouper, exclusions, obj = \u001b[43mget_grouper\u001b[49m\u001b[43m(\u001b[49m\n\u001b[32m   1331\u001b[39m \u001b[43m        \u001b[49m\u001b[43mobj\u001b[49m\u001b[43m,\u001b[49m\n\u001b[32m   1332\u001b[39m \u001b[43m        \u001b[49m\u001b[43mkeys\u001b[49m\u001b[43m,\u001b[49m\n\u001b[32m   1333\u001b[39m \u001b[43m        \u001b[49m\u001b[43maxis\u001b[49m\u001b[43m=\u001b[49m\u001b[43maxis\u001b[49m\u001b[43m,\u001b[49m\n\u001b[32m   1334\u001b[39m \u001b[43m        \u001b[49m\u001b[43mlevel\u001b[49m\u001b[43m=\u001b[49m\u001b[43mlevel\u001b[49m\u001b[43m,\u001b[49m\n\u001b[32m   1335\u001b[39m \u001b[43m        \u001b[49m\u001b[43msort\u001b[49m\u001b[43m=\u001b[49m\u001b[43msort\u001b[49m\u001b[43m,\u001b[49m\n\u001b[32m   1336\u001b[39m \u001b[43m        \u001b[49m\u001b[43mobserved\u001b[49m\u001b[43m=\u001b[49m\u001b[38;5;28;43;01mFalse\u001b[39;49;00m\u001b[43m \u001b[49m\u001b[38;5;28;43;01mif\u001b[39;49;00m\u001b[43m \u001b[49m\u001b[43mobserved\u001b[49m\u001b[43m \u001b[49m\u001b[38;5;129;43;01mis\u001b[39;49;00m\u001b[43m \u001b[49m\u001b[43mlib\u001b[49m\u001b[43m.\u001b[49m\u001b[43mno_default\u001b[49m\u001b[43m \u001b[49m\u001b[38;5;28;43;01melse\u001b[39;49;00m\u001b[43m \u001b[49m\u001b[43mobserved\u001b[49m\u001b[43m,\u001b[49m\n\u001b[32m   1337\u001b[39m \u001b[43m        \u001b[49m\u001b[43mdropna\u001b[49m\u001b[43m=\u001b[49m\u001b[38;5;28;43mself\u001b[39;49m\u001b[43m.\u001b[49m\u001b[43mdropna\u001b[49m\u001b[43m,\u001b[49m\n\u001b[32m   1338\u001b[39m \u001b[43m    \u001b[49m\u001b[43m)\u001b[49m\n\u001b[32m   1340\u001b[39m \u001b[38;5;28;01mif\u001b[39;00m observed \u001b[38;5;129;01mis\u001b[39;00m lib.no_default:\n\u001b[32m   1341\u001b[39m     \u001b[38;5;28;01mif\u001b[39;00m \u001b[38;5;28many\u001b[39m(ping._passed_categorical \u001b[38;5;28;01mfor\u001b[39;00m ping \u001b[38;5;129;01min\u001b[39;00m grouper.groupings):\n",
      "\u001b[36mFile \u001b[39m\u001b[32m~/serendip-travel/explainable-tourism-nlp/.venv/lib/python3.12/site-packages/pandas/core/groupby/grouper.py:1043\u001b[39m, in \u001b[36mget_grouper\u001b[39m\u001b[34m(obj, key, axis, level, sort, observed, validate, dropna)\u001b[39m\n\u001b[32m   1041\u001b[39m         in_axis, level, gpr = \u001b[38;5;28;01mFalse\u001b[39;00m, gpr, \u001b[38;5;28;01mNone\u001b[39;00m\n\u001b[32m   1042\u001b[39m     \u001b[38;5;28;01melse\u001b[39;00m:\n\u001b[32m-> \u001b[39m\u001b[32m1043\u001b[39m         \u001b[38;5;28;01mraise\u001b[39;00m \u001b[38;5;167;01mKeyError\u001b[39;00m(gpr)\n\u001b[32m   1044\u001b[39m \u001b[38;5;28;01melif\u001b[39;00m \u001b[38;5;28misinstance\u001b[39m(gpr, Grouper) \u001b[38;5;129;01mand\u001b[39;00m gpr.key \u001b[38;5;129;01mis\u001b[39;00m \u001b[38;5;129;01mnot\u001b[39;00m \u001b[38;5;28;01mNone\u001b[39;00m:\n\u001b[32m   1045\u001b[39m     \u001b[38;5;66;03m# Add key to exclusions\u001b[39;00m\n\u001b[32m   1046\u001b[39m     exclusions.add(gpr.key)\n",
      "\u001b[31mKeyError\u001b[39m: 'Dimension'"
     ]
    },
    {
     "data": {
      "text/plain": [
       "<Figure size 1400x1000 with 0 Axes>"
      ]
     },
     "metadata": {},
     "output_type": "display_data"
    }
   ],
   "source": [
    "# Create a visualization showing the top words for each dimension across reviews\n",
    "plt.figure(figsize=(14, 10))\n",
    "\n",
    "# Group by dimension and word, then calculate average impact\n",
    "dimension_word_impact = all_words_df.groupby(['Dimension', 'Word'])['Value'].mean().reset_index()\n",
    "\n",
    "# Get top 10 words per dimension by absolute value\n",
    "top_words_by_dimension = {}\n",
    "for dimension in dimension_word_impact['Dimension'].unique():\n",
    "    dimension_data = dimension_word_impact[dimension_word_impact['Dimension'] == dimension].copy()\n",
    "    dimension_data['AbsValue'] = dimension_data['Value'].abs()\n",
    "    top_words = dimension_data.nlargest(10, 'AbsValue')\n",
    "    top_words_by_dimension[dimension] = top_words\n",
    "\n",
    "# Create a 2x2 grid of subplots for the 4 dimensions\n",
    "fig, axes = plt.subplots(2, 2, figsize=(16, 12))\n",
    "axes = axes.flatten()\n",
    "\n",
    "dimensions = list(top_words_by_dimension.keys())\n",
    "colors = ['#2C7BB6', '#D7191C']\n",
    "\n",
    "for i, dimension in enumerate(dimensions):\n",
    "    if i < len(axes):\n",
    "        df = top_words_by_dimension[dimension]\n",
    "        df = df.sort_values('Value')\n",
    "        \n",
    "        # Determine color based on positive/negative value\n",
    "        bar_colors = ['#D7191C' if x < 0 else '#2C7BB6' for x in df['Value']]\n",
    "        \n",
    "        # Create horizontal bar chart\n",
    "        axes[i].barh(df['Word'], df['Value'], color=bar_colors)\n",
    "        axes[i].set_title(f\"Top Influential Words: {dimension}\", fontsize=14)\n",
    "        axes[i].axvline(x=0, color='black', linestyle='-', linewidth=0.5)\n",
    "        axes[i].set_xlabel('Average SHAP Value', fontsize=12)\n",
    "        \n",
    "        # Add a color legend\n",
    "        from matplotlib.patches import Patch\n",
    "        legend_elements = [\n",
    "            Patch(facecolor='#2C7BB6', label='Positive Impact'),\n",
    "            Patch(facecolor='#D7191C', label='Negative Impact')\n",
    "        ]\n",
    "        axes[i].legend(handles=legend_elements, loc='lower right')\n",
    "\n",
    "plt.tight_layout()\n",
    "plt.show()"
   ]
  },
  {
   "cell_type": "markdown",
   "id": "cf1711bf",
   "metadata": {},
   "source": [
    "## Creating a Batch Processing Function\n",
    "\n",
    "For convenience, let's create a utility function to process multiple reviews at once:"
   ]
  },
  {
   "cell_type": "code",
   "execution_count": null,
   "id": "62d62ae5",
   "metadata": {},
   "outputs": [],
   "source": [
    "def batch_process_reviews(reviews, with_explanations=False, top_n_words=5, delay=0.5):\n",
    "    \"\"\"\n",
    "    Process multiple reviews with the API\n",
    "    \n",
    "    Parameters:\n",
    "        reviews (list): List of review texts\n",
    "        with_explanations (bool): Whether to get explanations (slower)\n",
    "        top_n_words (int): Number of top words in explanations\n",
    "        delay (float): Delay between API calls\n",
    "        \n",
    "    Returns:\n",
    "        dict: Results with predictions and optionally explanations\n",
    "    \"\"\"\n",
    "    results = {\n",
    "        \"predictions\": [],\n",
    "        \"explanations\": [] if with_explanations else None\n",
    "    }\n",
    "    \n",
    "    for i, review in enumerate(reviews):\n",
    "        print(f\"Processing review {i+1}/{len(reviews)}...\")\n",
    "        \n",
    "        # Get predictions\n",
    "        pred = get_predictions(review)\n",
    "        results[\"predictions\"].append(pred)\n",
    "        \n",
    "        # Get explanations if requested\n",
    "        if with_explanations:\n",
    "            expl = get_explanation(review, top_n_words)\n",
    "            results[\"explanations\"].append(expl)\n",
    "        \n",
    "        # Small delay to avoid overwhelming the API\n",
    "        time.sleep(delay)\n",
    "    \n",
    "    print(\"Done processing all reviews!\")\n",
    "    return results"
   ]
  },
  {
   "cell_type": "code",
   "execution_count": null,
   "id": "2487eaac",
   "metadata": {},
   "outputs": [],
   "source": [
    "# Example usage\n",
    "# This is commented out to avoid re-running everything\n",
    "# We already have the results stored in all_predictions and all_explanations\n",
    "\n",
    "# Example of how you would use the batch function\n",
    "\"\"\"\n",
    "new_reviews = [\n",
    "    \"The eco-friendly resort in Ella was amazing. We participated in tree planting and learned about conservation.\",\n",
    "    \"Relaxing yoga and meditation retreat with incredible Ayurvedic treatments and healthy local cuisine.\"\n",
    "]\n",
    "\n",
    "results = batch_process_reviews(new_reviews, with_explanations=True)\n",
    "\"\"\""
   ]
  },
  {
   "cell_type": "markdown",
   "id": "5cfb6d92",
   "metadata": {},
   "source": [
    "## Saving Results for Further Analysis\n",
    "\n",
    "Let's save our predictions and explanations for further analysis:"
   ]
  },
  {
   "cell_type": "code",
   "execution_count": null,
   "id": "6e2ed27e",
   "metadata": {},
   "outputs": [],
   "source": [
    "# Save the prediction results to CSV\n",
    "pred_df.to_csv('../data/processed/api_predictions.csv', index=False)\n",
    "\n",
    "# Save all words data\n",
    "all_words_df.to_csv('../data/processed/api_explanations_words.csv', index=False)\n",
    "\n",
    "# Save raw predictions and explanations as JSON\n",
    "results_for_export = {\n",
    "    \"predictions\": all_predictions,\n",
    "    \"explanations\": [\n",
    "        {\n",
    "            \"top_words\": e[\"top_words\"] if \"top_words\" in e else {}\n",
    "        } for e in all_explanations\n",
    "    ],\n",
    "    \"review_texts\": sample_reviews,\n",
    "    \"review_labels\": sample_reviews_short\n",
    "}\n",
    "\n",
    "import os\n",
    "os.makedirs('../data/processed', exist_ok=True)\n",
    "\n",
    "with open('../data/processed/api_results.json', 'w') as f:\n",
    "    json.dump(results_for_export, f, indent=2)\n",
    "\n",
    "print(\"Results saved to data/processed/ directory!\")"
   ]
  },
  {
   "cell_type": "markdown",
   "id": "7ae2d14c",
   "metadata": {},
   "source": [
    "## Conclusion\n",
    "\n",
    "In this notebook, we demonstrated how to:\n",
    "\n",
    "1. Connect to the Serendip Experiential Engine API\n",
    "2. Classify tourism reviews using the `/predict` endpoint\n",
    "3. Generate explainable AI visualizations with the `/explain` endpoint\n",
    "4. Analyze and visualize the results\n",
    "5. Save data for further analysis\n",
    "\n",
    "The API provides a powerful way to analyze tourism reviews and understand their experiential dimensions, with transparent explanations of the model's predictions."
   ]
  }
 ],
 "metadata": {
  "kernelspec": {
   "display_name": ".venv (3.12.4)",
   "language": "python",
   "name": "python3"
  },
  "language_info": {
   "codemirror_mode": {
    "name": "ipython",
    "version": 3
   },
   "file_extension": ".py",
   "mimetype": "text/x-python",
   "name": "python",
   "nbconvert_exporter": "python",
   "pygments_lexer": "ipython3",
   "version": "3.12.4"
  }
 },
 "nbformat": 4,
 "nbformat_minor": 5
}
